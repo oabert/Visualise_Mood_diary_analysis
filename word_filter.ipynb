{
 "cells": [
  {
   "cell_type": "code",
   "execution_count": 1,
   "id": "ce5eff4d-acee-4f54-8763-6692364af47b",
   "metadata": {},
   "outputs": [],
   "source": [
    "with open('miracle_in_the_andes.txt') as file:\n",
    "    book = file.read()"
   ]
  },
  {
   "cell_type": "code",
   "execution_count": null,
   "id": "1a6defbb-6439-4418-9fe9-f4676f6bc693",
   "metadata": {},
   "outputs": [],
   "source": []
  },
  {
   "cell_type": "code",
   "execution_count": 2,
   "id": "62b590aa-7d48-45e3-a9ea-9ba8bed9a76c",
   "metadata": {},
   "outputs": [],
   "source": [
    "### How many chapters "
   ]
  },
  {
   "cell_type": "markdown",
   "id": "9fd2328f-98ae-4819-b3ec-1ae5870c7a22",
   "metadata": {
    "tags": []
   },
   "source": [
    "### with redex"
   ]
  },
  {
   "cell_type": "code",
   "execution_count": 3,
   "id": "c86e24ec-7bbf-4b28-a7ff-4121dfb2c5bf",
   "metadata": {},
   "outputs": [],
   "source": [
    "import re"
   ]
  },
  {
   "cell_type": "markdown",
   "id": "280f510d-28fc-4bd1-a203-1f36fde88944",
   "metadata": {},
   "source": [
    "### Whitch sentences have word 'love'? "
   ]
  },
  {
   "cell_type": "code",
   "execution_count": 4,
   "id": "eab27845-e58e-43da-8896-9394f695a406",
   "metadata": {
    "tags": []
   },
   "outputs": [
    {
     "data": {
      "text/plain": [
       "67"
      ]
     },
     "execution_count": 4,
     "metadata": {},
     "output_type": "execute_result"
    }
   ],
   "source": [
    "pattern = re.compile('[A-Z]{1}[^.]*[^a-zA-Z]+love[^a-zA-Z]+[^.]*.')\n",
    "result = re.findall(pattern, book)\n",
    "len(result)"
   ]
  },
  {
   "cell_type": "markdown",
   "id": "05a09110-e6e1-43d0-bfac-ad8b9b9efed2",
   "metadata": {
    "tags": []
   },
   "source": [
    "Extract pharagraphs where 'love' was used"
   ]
  },
  {
   "cell_type": "code",
   "execution_count": 5,
   "id": "a9777651-0faf-4d1a-9385-052e02731c99",
   "metadata": {},
   "outputs": [
    {
     "data": {
      "text/plain": [
       "60"
      ]
     },
     "execution_count": 5,
     "metadata": {},
     "output_type": "execute_result"
    }
   ],
   "source": [
    "pattern = re.compile('[^\\n]+love[^\\n]+')\n",
    "result = re.findall(pattern, book)\n",
    "len(result)"
   ]
  },
  {
   "cell_type": "markdown",
   "id": "9475fdee-5971-4dd1-86eb-a8bef7d26bfb",
   "metadata": {},
   "source": [
    "Extract chapters titles"
   ]
  },
  {
   "cell_type": "code",
   "execution_count": 6,
   "id": "1d3d23a4-b6cd-4c22-a6b1-83eb0d9d5009",
   "metadata": {},
   "outputs": [],
   "source": [
    "### Method1"
   ]
  },
  {
   "cell_type": "code",
   "execution_count": 7,
   "id": "26367fa9-53d8-4777-9155-0c45d843d33e",
   "metadata": {
    "tags": []
   },
   "outputs": [
    {
     "data": {
      "text/plain": [
       "['Before',\n",
       " 'Everything Precious',\n",
       " 'A Promise',\n",
       " 'Breathe Once More',\n",
       " 'Abandoned',\n",
       " 'Tomb',\n",
       " 'East',\n",
       " 'The Opposite of Death',\n",
       " 'I See a Man',\n",
       " 'After']"
      ]
     },
     "execution_count": 7,
     "metadata": {},
     "output_type": "execute_result"
    }
   ],
   "source": [
    "pattern = re.compile('[a-zA-Z ]+\\n\\n')\n",
    "result = re.findall(pattern, book)\n",
    "result = [item.strip('\\n\\n') for item in result]\n",
    "result"
   ]
  },
  {
   "cell_type": "code",
   "execution_count": 8,
   "id": "fb2eaf2d-428a-42f3-8c8c-ee08d76b07fc",
   "metadata": {},
   "outputs": [],
   "source": [
    "### Method2"
   ]
  },
  {
   "cell_type": "code",
   "execution_count": 9,
   "id": "25305279-ec51-4b42-bc75-a631762f0ea5",
   "metadata": {
    "tags": []
   },
   "outputs": [
    {
     "data": {
      "text/plain": [
       "['Before',\n",
       " 'Everything Precious',\n",
       " 'A Promise',\n",
       " 'Breathe Once More',\n",
       " 'Abandoned',\n",
       " 'Tomb',\n",
       " 'East',\n",
       " 'The Opposite of Death',\n",
       " 'I See a Man',\n",
       " 'After']"
      ]
     },
     "execution_count": 9,
     "metadata": {},
     "output_type": "execute_result"
    }
   ],
   "source": [
    "pattern = re.compile('([a-zA-Z ]+)\\n\\n')\n",
    "result = re.findall(pattern, book)\n",
    "result"
   ]
  },
  {
   "cell_type": "markdown",
   "id": "de28bd79-9ec9-44b1-bb00-8401e565b406",
   "metadata": {
    "tags": []
   },
   "source": [
    "Function that finds the occurrence of any word"
   ]
  },
  {
   "cell_type": "code",
   "execution_count": 10,
   "id": "7f5fb07e-49bc-447b-8804-a314d25c762a",
   "metadata": {
    "tags": []
   },
   "outputs": [],
   "source": [
    "def find(w):\n",
    "    pattern = re.compile('[a-zA-Z]+')\n",
    "    result = re.findall(pattern, book.lower())\n",
    "    d = {}\n",
    "    for word in result:\n",
    "        if word in d.keys():\n",
    "            d[word] = d[word]+1\n",
    "        else:\n",
    "            d[word]=1\n",
    "    try:\n",
    "        return d[w]\n",
    "    except:\n",
    "        return f'The book doesn`t contain the word \"{w}\"'"
   ]
  },
  {
   "cell_type": "code",
   "execution_count": 11,
   "id": "41279de4-7d6e-4d31-81da-b08aa5340db8",
   "metadata": {},
   "outputs": [
    {
     "data": {
      "text/plain": [
       "83"
      ]
     },
     "execution_count": 11,
     "metadata": {},
     "output_type": "execute_result"
    }
   ],
   "source": [
    "find('love')"
   ]
  },
  {
   "cell_type": "markdown",
   "id": "3d2cfb07-f68d-4acc-80a1-e610e6e39f27",
   "metadata": {},
   "source": [
    "What is the most used words in text?"
   ]
  },
  {
   "cell_type": "code",
   "execution_count": 12,
   "id": "fc7fbfb6-559d-429a-b219-508bb189b74f",
   "metadata": {},
   "outputs": [],
   "source": [
    "pattern = re.compile('[a-zA-Z]+')\n",
    "result = re.findall(pattern, book.lower())"
   ]
  },
  {
   "cell_type": "code",
   "execution_count": 13,
   "id": "bf1acdbd-1838-4af8-b4ea-a5274ff76d96",
   "metadata": {
    "tags": []
   },
   "outputs": [],
   "source": [
    "d = {}\n",
    "for word in result:\n",
    "    if word in d.keys():\n",
    "        d[word] = d[word]+1\n",
    "    else:\n",
    "        d[word]=1"
   ]
  },
  {
   "cell_type": "code",
   "execution_count": 14,
   "id": "8fdd2c97-1719-435f-92b8-e676c61bee6d",
   "metadata": {
    "tags": []
   },
   "outputs": [
    {
     "data": {
      "text/plain": [
       "[(5346, 'the'), (2795, 'and'), (2729, 'i'), (2400, 'to'), (2060, 'of')]"
      ]
     },
     "execution_count": 14,
     "metadata": {},
     "output_type": "execute_result"
    }
   ],
   "source": [
    "d_list = [(value, key) for (key, value) in d.items()]\n",
    "d_list = sorted(d_list, reverse=True)\n",
    "d_list[:5]"
   ]
  },
  {
   "cell_type": "markdown",
   "id": "c271a6b7-2a8d-4397-b0cc-af8c7856df6f",
   "metadata": {},
   "source": [
    "Most used words - non articles"
   ]
  },
  {
   "cell_type": "code",
   "execution_count": 15,
   "id": "9b74ea00-31bd-44f4-bfbe-b9c7eb057fa9",
   "metadata": {},
   "outputs": [
    {
     "data": {
      "text/plain": [
       "'3.11.7'"
      ]
     },
     "execution_count": 15,
     "metadata": {},
     "output_type": "execute_result"
    }
   ],
   "source": [
    "from platform import python_version\n",
    "python_version()"
   ]
  },
  {
   "cell_type": "code",
   "execution_count": 16,
   "id": "b30c6d0d-6510-461e-a46e-058a94415e10",
   "metadata": {},
   "outputs": [
    {
     "name": "stdout",
     "output_type": "stream",
     "text": [
      "Requirement already satisfied: nltk in ./venv/lib/python3.10/site-packages (3.8.1)\n",
      "Requirement already satisfied: click in ./venv/lib/python3.10/site-packages (from nltk) (8.1.7)\n",
      "Requirement already satisfied: joblib in ./venv/lib/python3.10/site-packages (from nltk) (1.3.2)\n",
      "Requirement already satisfied: regex>=2021.8.3 in ./venv/lib/python3.10/site-packages (from nltk) (2023.12.25)\n",
      "Requirement already satisfied: tqdm in ./venv/lib/python3.10/site-packages (from nltk) (4.66.1)\n"
     ]
    }
   ],
   "source": [
    "!pip3 install nltk"
   ]
  },
  {
   "cell_type": "code",
   "execution_count": 17,
   "id": "b34d159e-3933-49bb-bc0a-4214829768a4",
   "metadata": {},
   "outputs": [
    {
     "name": "stdout",
     "output_type": "stream",
     "text": [
      "Requirement already satisfied: pip in ./venv/lib/python3.10/site-packages (23.3.2)\n"
     ]
    }
   ],
   "source": [
    "!pip3 install --upgrade pip"
   ]
  },
  {
   "cell_type": "code",
   "execution_count": 19,
   "id": "da0df300-39c1-4a8a-bfea-dd6e9edeb371",
   "metadata": {},
   "outputs": [
    {
     "name": "stdout",
     "output_type": "stream",
     "text": [
      "Requirement already satisfied: nltk in ./venv/lib/python3.10/site-packages (3.8.1)\n",
      "Requirement already satisfied: click in ./venv/lib/python3.10/site-packages (from nltk) (8.1.7)\n",
      "Requirement already satisfied: joblib in ./venv/lib/python3.10/site-packages (from nltk) (1.3.2)\n",
      "Requirement already satisfied: regex>=2021.8.3 in ./venv/lib/python3.10/site-packages (from nltk) (2023.12.25)\n",
      "Requirement already satisfied: tqdm in ./venv/lib/python3.10/site-packages (from nltk) (4.66.1)\n"
     ]
    },
    {
     "ename": "ModuleNotFoundError",
     "evalue": "No module named 'nltk'",
     "output_type": "error",
     "traceback": [
      "\u001b[0;31m---------------------------------------------------------------------------\u001b[0m",
      "\u001b[0;31mModuleNotFoundError\u001b[0m                       Traceback (most recent call last)",
      "Cell \u001b[0;32mIn[19], line 2\u001b[0m\n\u001b[1;32m      1\u001b[0m get_ipython()\u001b[38;5;241m.\u001b[39msystem(\u001b[38;5;124m'\u001b[39m\u001b[38;5;124mpip install nltk\u001b[39m\u001b[38;5;124m'\u001b[39m)\n\u001b[0;32m----> 2\u001b[0m \u001b[38;5;28;01mimport\u001b[39;00m \u001b[38;5;21;01mnltk\u001b[39;00m\n\u001b[1;32m      3\u001b[0m nltk\u001b[38;5;241m.\u001b[39mdownload(\u001b[38;5;124m'\u001b[39m\u001b[38;5;124mstopwords\u001b[39m\u001b[38;5;124m'\u001b[39m)\n\u001b[1;32m      5\u001b[0m \u001b[38;5;28;01mfrom\u001b[39;00m \u001b[38;5;21;01mnltk\u001b[39;00m\u001b[38;5;21;01m.\u001b[39;00m\u001b[38;5;21;01mcorpus\u001b[39;00m \u001b[38;5;28;01mimport\u001b[39;00m stopwords\n",
      "\u001b[0;31mModuleNotFoundError\u001b[0m: No module named 'nltk'"
     ]
    }
   ],
   "source": [
    "!pip install nltk\n",
    "import nltk\n",
    "nltk.download('stopwords')\n",
    "\n",
    "from nltk.corpus import stopwords\n",
    "english_stopwords = stopwords.words(\"English\")"
   ]
  },
  {
   "cell_type": "code",
   "execution_count": 20,
   "id": "d28afdf3-8c8b-421b-b922-d3ea4758bdd8",
   "metadata": {},
   "outputs": [
    {
     "name": "stdout",
     "output_type": "stream",
     "text": [
      "Package    Version\n",
      "---------- ----------\n",
      "click      8.1.7\n",
      "joblib     1.3.2\n",
      "nltk       3.8.1\n",
      "pip        23.3.2\n",
      "regex      2023.12.25\n",
      "setuptools 65.5.1\n",
      "tqdm       4.66.1\n",
      "wheel      0.38.4\n"
     ]
    }
   ],
   "source": [
    "!pip list"
   ]
  },
  {
   "cell_type": "code",
   "execution_count": null,
   "id": "a6a17844-6938-4b58-826a-5d416207d199",
   "metadata": {},
   "outputs": [],
   "source": []
  }
 ],
 "metadata": {
  "kernelspec": {
   "display_name": "Python 3 (ipykernel)",
   "language": "python",
   "name": "python3"
  },
  "language_info": {
   "codemirror_mode": {
    "name": "ipython",
    "version": 3
   },
   "file_extension": ".py",
   "mimetype": "text/x-python",
   "name": "python",
   "nbconvert_exporter": "python",
   "pygments_lexer": "ipython3",
   "version": "3.12.1"
  }
 },
 "nbformat": 4,
 "nbformat_minor": 5
}
